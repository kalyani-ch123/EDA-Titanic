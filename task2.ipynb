{
 "cells": [
  {
   "cell_type": "code",
   "execution_count": null,
   "id": "ee636518-a2e8-4b24-b659-3ac3b006936c",
   "metadata": {},
   "outputs": [],
   "source": [
    "import pandas as pd\n",
    "import numpy as np\n",
    "import matplotlib.pyplot as plt\n",
    "import seaborn as sns\n",
    "import plotly.express as px\n",
    "df = pd.read_csv('titanic.csv')  # Adjust filename as needed\n",
    "df.head()            # First 5 rows\n",
    "df.info()            # Data types and non-null counts\n",
    "df.describe()        # Summary statistics\n",
    "df.columns           # Column names\n",
    "df.shape             # Number of rows and columns\n",
    "df.isnull().sum()    # Check missing values\n",
    "sns.heatmap(df.isnull(), cbar=False)  # Visualize missing data\n",
    "df['Age'].fillna(df['Age'].median(), inplace=True)\n",
    "df.drop(columns=['Cabin'], inplace=True)  # If too many missing values\n",
    "print(\"Mean Age:\", df['Age'].mean())\n",
    "print(\"Median Fare:\", df['Fare'].median())\n",
    "print(\"Standard Deviation of Fare:\", df['Fare'].std())\n",
    "# Histogram\n",
    "df['Age'].hist(bins=30)\n",
    "plt.title('Age Distribution')\n",
    "plt.xlabel('Age')\n",
    "plt.ylabel('Count')\n",
    "plt.show()\n",
    "\n",
    "# Boxplot\n",
    "sns.boxplot(x='Pclass', y='Fare', data=df)\n",
    "corr = df.corr()\n",
    "sns.heatmap(corr, annot=True, cmap='coolwarm')\n",
    "sns.pairplot(df[['Age', 'Fare', 'Survived']])\n",
    "sns.countplot(x='Survived', hue='Sex', data=df)\n",
    "print(\"Skewness of Age:\", df['Age'].skew())\n",
    "print(\"Skewness of Fare:\", df['Fare'].skew())"
   ]
  }
 ],
 "metadata": {
  "kernelspec": {
   "display_name": "Python 3 (ipykernel)",
   "language": "python",
   "name": "python3"
  },
  "language_info": {
   "codemirror_mode": {
    "name": "ipython",
    "version": 3
   },
   "file_extension": ".py",
   "mimetype": "text/x-python",
   "name": "python",
   "nbconvert_exporter": "python",
   "pygments_lexer": "ipython3",
   "version": "3.10.12"
  }
 },
 "nbformat": 4,
 "nbformat_minor": 5
}
